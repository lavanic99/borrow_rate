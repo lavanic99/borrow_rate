{
 "cells": [
  {
   "cell_type": "code",
   "execution_count": 1,
   "metadata": {},
   "outputs": [],
   "source": [
    "import matplotlib.pyplot as plt\n",
    "import pandas as pd\n",
    "import ipywidgets as widgets\n",
    "from ipywidgets import interact\n",
    "from matplotlib.ticker import FuncFormatter"
   ]
  },
  {
   "cell_type": "code",
   "execution_count": 20,
   "metadata": {},
   "outputs": [],
   "source": [
    "# Assuming 'result' is your DataFrame indexed by datetime with the weighted average rates\n",
    "result = pd.read_csv(\"wa_borrow_rate.csv\")\n",
    "# Rename the column 'Unnamed: 0' to 'Timestamp' and update the DataFrame\n",
    "result.rename(columns={'Unnamed: 0': 'Timestamp'}, inplace=True)\n",
    "# Set the renamed column 'Timestamp' as the index of the DataFrame\n",
    "result.set_index('Timestamp', inplace=True)\n",
    "result.index = pd.to_datetime(result.index)\n"
   ]
  },
  {
   "cell_type": "code",
   "execution_count": 21,
   "metadata": {},
   "outputs": [
    {
     "data": {
      "application/vnd.jupyter.widget-view+json": {
       "model_id": "1c70d1a49fbb4238b12e2bd88d57e315",
       "version_major": 2,
       "version_minor": 0
      },
      "text/plain": [
       "interactive(children=(DatePicker(value=Timestamp('2020-05-01 21:00:00'), description='Start Date', step=1), Da…"
      ]
     },
     "metadata": {},
     "output_type": "display_data"
    },
    {
     "data": {
      "text/plain": [
       "<function __main__.plot_data(start_date, end_date, average_days)>"
      ]
     },
     "execution_count": 21,
     "metadata": {},
     "output_type": "execute_result"
    }
   ],
   "source": [
    "\n",
    "# Assuming 'result' is your DataFrame indexed by datetime with the weighted average rates\n",
    "result = pd.Series(result['WeightedAverageBorrowRate'])  # You should load your actual data here\n",
    "\n",
    "def percentage_formatter(x, pos):\n",
    "    # Format number as percentage\n",
    "    return f'{x * 100:.0f}%'\n",
    "\n",
    "def plot_data(start_date, end_date, average_days):\n",
    "    # Filter data based on the selected date range\n",
    "    filtered_data = result.loc[start_date:end_date]\n",
    "    \n",
    "    # Apply resampling and rolling average if selected\n",
    "    if average_days > 0:\n",
    "        # Resample to daily data then apply rolling mean\n",
    "        filtered_data = filtered_data.resample('D').mean().rolling(window=average_days).mean()\n",
    "\n",
    "    # Plotting the data\n",
    "    plt.figure(figsize=(10, 5))\n",
    "    plt.plot(filtered_data, linestyle='-')\n",
    "    plt.title('Weighted Average Borrow Rate Over Time')\n",
    "    plt.xlabel('Date')\n",
    "    plt.ylabel('Weighted Average Borrow Rate (%)')\n",
    "    plt.gca().yaxis.set_major_formatter(FuncFormatter(percentage_formatter))  # Formatting the y-axis\n",
    "    plt.grid(True)\n",
    "    plt.xticks(rotation=45)\n",
    "    plt.tight_layout()\n",
    "    plt.show()\n",
    "\n",
    "# Dropdown for selecting the average period\n",
    "average_days_selector = widgets.Dropdown(\n",
    "    options=[('None', 0), ('7-Day Average', 7), ('14-Day Average', 14), ('30-Day Average', 30)],\n",
    "    value=0,\n",
    "    description='Average:'\n",
    ")\n",
    "\n",
    "# Set up widgets for the date range selection\n",
    "start_date_picker = widgets.DatePicker(description='Start Date', value=pd.to_datetime(result.index.min()))\n",
    "end_date_picker = widgets.DatePicker(description='End Date', value=pd.to_datetime(result.index.max()))\n",
    "\n",
    "# Display interactive plot\n",
    "interact(plot_data, start_date=start_date_picker, end_date=end_date_picker, average_days=average_days_selector)\n"
   ]
  }
 ],
 "metadata": {
  "kernelspec": {
   "display_name": "base",
   "language": "python",
   "name": "python3"
  },
  "language_info": {
   "codemirror_mode": {
    "name": "ipython",
    "version": 3
   },
   "file_extension": ".py",
   "mimetype": "text/x-python",
   "name": "python",
   "nbconvert_exporter": "python",
   "pygments_lexer": "ipython3",
   "version": "3.11.5"
  }
 },
 "nbformat": 4,
 "nbformat_minor": 2
}
